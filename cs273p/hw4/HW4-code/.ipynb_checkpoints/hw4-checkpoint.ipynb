{
 "cells": [
  {
   "cell_type": "markdown",
   "metadata": {},
   "source": [
    "## Problem 1: Decision Trees"
   ]
  },
  {
   "cell_type": "markdown",
   "metadata": {},
   "source": [
    "(a)"
   ]
  },
  {
   "cell_type": "code",
   "execution_count": 11,
   "metadata": {},
   "outputs": [
    {
     "name": "stdout",
     "output_type": "stream",
     "text": [
      "The entropy of the class variable y = 0.9709505944546686\n"
     ]
    }
   ],
   "source": [
    "import math\n",
    "\n",
    "def H(p):\n",
    "    if (p==1 or p==0):\n",
    "        return 0;\n",
    "    return -p * math.log(p, 2) - (1-p) * math.log(1-p, 2);\n",
    "\n",
    "# p(y) = 2/5\n",
    "py = 2/5;\n",
    "hy = H(py);\n",
    "print(\"The entropy of the class variable y =\", hy);"
   ]
  },
  {
   "cell_type": "markdown",
   "metadata": {},
   "source": [
    "(b)"
   ]
  },
  {
   "cell_type": "code",
   "execution_count": 12,
   "metadata": {},
   "outputs": [
    {
     "name": "stdout",
     "output_type": "stream",
     "text": [
      "For x1, gain = 0.04643934467101546\n",
      "For x2, gain = 0.6099865470109874\n",
      "For x3, gain = 0.005802149014345571\n",
      "For x4, gain = 0.09127744624168001\n",
      "For x5, gain = 0.005802149014345571\n"
     ]
    }
   ],
   "source": [
    "px1 = 3/5\n",
    "px2 = 1/2\n",
    "px3 = 7/10\n",
    "px4 = 7/10\n",
    "px5 = 3/10\n",
    "\n",
    "gainX1 = px1*(hy - H(3/6)) + (1-px1)*(hy - H(1/4));  \n",
    "gainX2 = px2*(hy - H(0/5)) + (1-px2)*(hy - H(4/5));\n",
    "gainX3 = px3*(hy - H(3/7)) + (1-px3)*(hy - H(1/3));\n",
    "gainX4 = px4*(hy - H(2/7)) + (1-px4)*(hy - H(2/3));\n",
    "gainX5 = px5*(hy - H(1/3)) + (1-px5)*(hy - H(3/7));\n",
    "\n",
    "print(\"For x1, gain =\", gainX1);\n",
    "print(\"For x2, gain =\", gainX2);\n",
    "print(\"For x3, gain =\", gainX3);\n",
    "print(\"For x4, gain =\", gainX4);\n",
    "print(\"For x5, gain =\", gainX5);"
   ]
  },
  {
   "cell_type": "markdown",
   "metadata": {},
   "source": [
    "Hence, we should split on x2 first."
   ]
  },
  {
   "cell_type": "markdown",
   "metadata": {},
   "source": [
    "(c)"
   ]
  },
  {
   "cell_type": "code",
   "execution_count": 15,
   "metadata": {},
   "outputs": [
    {
     "name": "stdout",
     "output_type": "stream",
     "text": [
      "Layer1, for x1, gain = 0.3219280948873623\n",
      "Layer1, for x3, gain = 0.07290559532005601\n",
      "Layer1, for x4, gain = 0.12192809488736231\n",
      "Layer1, for x5, gain = 0.07290559532005604\n"
     ]
    }
   ],
   "source": [
    "hyy = H(4/5);\n",
    "\n",
    "gainXX1 = 3/5*(hyy - H(1)) + (1-3/5)*(hyy - H(1/2));\n",
    "gainXX3 = 4/5*(hyy - H(3/4)) + (1-4/5)*(hyy - H(1/1));\n",
    "gainXX4 = 3/5*(hyy - H(2/4)) + (1-3/5)*(hyy - H(2/2));\n",
    "gainXX5 = 1/5*(hyy - H(1/1)) + (1-1/5)*(hyy - H(3/4));\n",
    "print(\"Layer1, for x1, gain =\", gainXX1);\n",
    "print(\"Layer1, for x3, gain =\", gainXX3);\n",
    "print(\"Layer1, for x4, gain =\", gainXX4);\n",
    "print(\"Layer1, for x5, gain =\", gainXX5);"
   ]
  },
  {
   "cell_type": "markdown",
   "metadata": {},
   "source": [
    "Then, x1 is chosen in layer1\n",
    "Finally, x4 is chosen in layer2 "
   ]
  },
  {
   "cell_type": "markdown",
   "metadata": {},
   "source": [
    "Hence, the complete decision tree:             \n",
    "            \n",
    "             x2            \n",
    "           0/  \\1          \n",
    "          x1    y=-1         \n",
    "        0/  \\1       \n",
    "       x4    y=1 \n",
    "     0/  \\1\n",
    "    y=1  y=-1    "
   ]
  },
  {
   "cell_type": "markdown",
   "metadata": {},
   "source": [
    "## Problem 2: Decision Trees on Kaggle"
   ]
  },
  {
   "cell_type": "markdown",
   "metadata": {},
   "source": [
    "(a)"
   ]
  },
  {
   "cell_type": "code",
   "execution_count": 1,
   "metadata": {},
   "outputs": [],
   "source": [
    "import numpy as np;\n",
    "import matplotlib.pyplot as plt;\n",
    "import mltools as ml;\n",
    "\n",
    "X_test_src = np.genfromtxt(\"data/X_test.txt\",delimiter=None);\n",
    "X_train_src = np.genfromtxt(\"data/X_train.txt\",delimiter=None);\n",
    "Y_train_src = np.genfromtxt(\"data/Y_train.txt\",delimiter=None);\n",
    "\n",
    "Xt,Yt = X_train_src[0:10000,:], Y_train_src[0:10000];\n",
    "Xv, Yv = X_train_src[10000:20001,:], Y_train_src[10000:20001] ;"
   ]
  },
  {
   "cell_type": "code",
   "execution_count": null,
   "metadata": {},
   "outputs": [],
   "source": [
    "print('Size of X_train:', X_train_src.shape);\n",
    "print('Size of Y_train:', Y_train_src.shape);\n",
    "print('Size of X_test:', X_test_src.shape);"
   ]
  },
  {
   "cell_type": "markdown",
   "metadata": {},
   "source": [
    "(b)"
   ]
  },
  {
   "cell_type": "code",
   "execution_count": 2,
   "metadata": {},
   "outputs": [
    {
     "name": "stdout",
     "output_type": "stream",
     "text": [
      "Training error rates is 0.0047\n",
      "Validation error rates is 0.37936206379362064\n"
     ]
    }
   ],
   "source": [
    "learner = ml.dtree.treeClassify(Xt,Yt, maxDepth=50);\n",
    "\n",
    "print(\"Training error rates is\", learner.err(Xt,Yt));\n",
    "print(\"Validation error rates is\", learner.err(Xv,Yv));"
   ]
  },
  {
   "cell_type": "markdown",
   "metadata": {},
   "source": [
    "(c)"
   ]
  },
  {
   "cell_type": "code",
   "execution_count": 45,
   "metadata": {},
   "outputs": [
    {
     "data": {
      "image/png": "[encoded data removed]",
      "text/plain": [
       "<matplotlib.figure.Figure at 0x1218ae550>"
      ]
     },
     "metadata": {},
     "output_type": "display_data"
    },
    {
     "name": "stdout",
     "output_type": "stream",
     "text": [
      "The best depth is 5\n"
     ]
    }
   ],
   "source": [
    "errsT = [];\n",
    "errsV = [];\n",
    "minErr = 1.0;\n",
    "bestDepth = 0;\n",
    "\n",
    "for i in range(16):\n",
    "    learner = ml.dtree.treeClassify(Xt,Yt, maxDepth=i);\n",
    "    errsT.append(learner.err(Xt, Yt));\n",
    "    errsV.append(learner.err(Xv, Yv));\n",
    "    if(errsV[i] < minErr):\n",
    "        minErr = errsV[i];\n",
    "        bestDepth = i;\n",
    "\n",
    "plt.plot(errsT, 'red');\n",
    "plt.plot(errsV, 'blue');\n",
    "plt.title('Training vs Validation error rate with different maxDepth');\n",
    "plt.show();\n",
    "\n",
    "print(\"The best depth is\", bestDepth)"
   ]
  },
  {
   "cell_type": "markdown",
   "metadata": {},
   "source": [
    "(d)"
   ]
  },
  {
   "cell_type": "code",
   "execution_count": 47,
   "metadata": {},
   "outputs": [
    {
     "data": {
      "image/png": "[encoded data removed]",
      "text/plain": [
       "<matplotlib.figure.Figure at 0x1164e0630>"
      ]
     },
     "metadata": {},
     "output_type": "display_data"
    }
   ],
   "source": [
    "errsT = [];\n",
    "errsV = [];\n",
    "minLeafs = [pow(2,x) for x in range(2,13)];\n",
    "\n",
    "for i in minLeafs:\n",
    "    learner = ml.dtree.treeClassify(Xt,Yt, maxDepth=50, minLeaf=i);\n",
    "    errsT.append(learner.err(Xt, Yt));\n",
    "    errsV.append(learner.err(Xv, Yv));\n",
    "\n",
    "plt.plot(minLeafs, errsT, 'red');\n",
    "plt.plot(minLeafs, errsV, 'blue');\n",
    "plt.title('Error rate with different minLeafs');\n",
    "plt.show();"
   ]
  },
  {
   "cell_type": "markdown",
   "metadata": {},
   "source": [
    "Hence, minLeaf may be 128 when the model starts to overfit;"
   ]
  },
  {
   "cell_type": "markdown",
   "metadata": {},
   "source": [
    "(e)"
   ]
  },
  {
   "cell_type": "code",
   "execution_count": 49,
   "metadata": {},
   "outputs": [
    {
     "data": {
      "image/png": "[encoded data removed]",
      "text/plain": [
       "<matplotlib.figure.Figure at 0x11893e160>"
      ]
     },
     "metadata": {},
     "output_type": "display_data"
    }
   ],
   "source": [
    "errsT = [];\n",
    "errsV = [];\n",
    "minParents = [pow(2,x) for x in range(0,10)];\n",
    "\n",
    "for i in minParents:\n",
    "    learner = ml.dtree.treeClassify(Xt,Yt, maxDepth=50, minLeaf=128, minParent=i);\n",
    "    errsV.append(learner.err(Xv, Yv));\n",
    "    errsT.append(learner.err(Xt, Yt));\n",
    "\n",
    "plt.plot(minParents, errsT, 'red');\n",
    "plt.plot(minParents, errsV, 'blue');\n",
    "# plt.plot(list(range(1, 128)), errs);\n",
    "plt.title('Error rate with different minParents');\n",
    "plt.show();"
   ]
  },
  {
   "cell_type": "markdown",
   "metadata": {},
   "source": [
    "When minParent increases, the model complexity seems to decrease."
   ]
  },
  {
   "cell_type": "markdown",
   "metadata": {},
   "source": [
    "(f)"
   ]
  },
  {
   "cell_type": "markdown",
   "metadata": {},
   "source": [
    "Adjust parameters according to previous results"
   ]
  },
  {
   "cell_type": "code",
   "execution_count": 50,
   "metadata": {},
   "outputs": [
    {
     "data": {
      "image/png": "[encoded data removed]",
      "text/plain": [
       "<matplotlib.figure.Figure at 0x11618ef98>"
      ]
     },
     "metadata": {},
     "output_type": "display_data"
    },
    {
     "name": "stdout",
     "output_type": "stream",
     "text": [
      "When depth = 5, the bset MinLeaf is 8 . And the error rate is 0.3100689931006899\n"
     ]
    }
   ],
   "source": [
    "errsT = [];\n",
    "errsV = [];\n",
    "minLeafs = [pow(2,x) for x in range(0,13)];\n",
    "minErr = 1.0\n",
    "bestMinLeaf = 2;\n",
    "\n",
    "for i in minLeafs:\n",
    "    learner = ml.dtree.treeClassify(Xt,Yt, maxDepth=5, minLeaf=i);\n",
    "    predict = learner.err(Xv, Yv);\n",
    "    errsT.append(learner.err(Xt, Yt));\n",
    "    errsV.append(predict);\n",
    "    if(predict < minErr):\n",
    "        minErr = predict;\n",
    "        bestMinLeaf = i;\n",
    "\n",
    "plt.plot(minLeafs, errsT, 'red');\n",
    "plt.plot(minLeafs, errsV, 'blue');\n",
    "plt.title('Error rate with different minLeaf');\n",
    "plt.show();\n",
    "\n",
    "print(\"When depth = 5, the bset MinLeaf is\", bestMinLeaf, \". And the error rate is\", minErr);"
   ]
  },
  {
   "cell_type": "code",
   "execution_count": 51,
   "metadata": {},
   "outputs": [
    {
     "data": {
      "image/png": "[encoded data removed]",
      "text/plain": [
       "<matplotlib.figure.Figure at 0x1159c8b38>"
      ]
     },
     "metadata": {},
     "output_type": "display_data"
    },
    {
     "name": "stdout",
     "output_type": "stream",
     "text": [
      "When depth = 5 and minLeaf = 8, AUC of validation data set is 0.6496289157782771\n"
     ]
    }
   ],
   "source": [
    "# calculate auc according to the parameters\n",
    "learner = ml.dtree.treeClassify(Xt,Yt, maxDepth=5, minLeaf=8);\n",
    "\n",
    "fpr, tpr, tnr = learner.roc(Xv, Yv);\n",
    "plt.plot(fpr, tpr);\n",
    "plt.title('ROC Curve when maxDepth=5 and minLeaf=8');\n",
    "plt.show();\n",
    "\n",
    "print(\"When depth = 5 and minLeaf = 8, AUC of validation data set is\", learner.auc(Xv, Yv));"
   ]
  },
  {
   "cell_type": "markdown",
   "metadata": {},
   "source": [
    "(g)"
   ]
  },
  {
   "cell_type": "markdown",
   "metadata": {},
   "source": [
    "Try to find fit parameters for best performance."
   ]
  },
  {
   "cell_type": "code",
   "execution_count": 53,
   "metadata": {},
   "outputs": [
    {
     "data": {
      "image/png": "[encoded data removed]",
      "text/plain": [
       "<matplotlib.figure.Figure at 0x10a718cc0>"
      ]
     },
     "metadata": {},
     "output_type": "display_data"
    },
    {
     "name": "stdout",
     "output_type": "stream",
     "text": [
      "The best depth is 14\n"
     ]
    }
   ],
   "source": [
    "# modify splitting\n",
    "Xt,Yt = X_train_src[0:90000,:], Y_train_src[0:90000];\n",
    "Xv, Yv = X_train_src[90000:-1,:], Y_train_src[90000:-1] ;\n",
    "\n",
    "errsT1 = [];\n",
    "errsV1 = [];\n",
    "minErr = 1.0\n",
    "bestDepth = 0;\n",
    "\n",
    "# find the best depth\n",
    "for i in range(18):\n",
    "    learner = ml.dtree.treeClassify(Xt,Yt, maxDepth=i);\n",
    "    errsT1.append(learner.err(Xt, Yt));\n",
    "    errsV1.append(learner.err(Xv, Yv));\n",
    "    if(errsV1[i] < minErr):\n",
    "        minErr = errsV1[i];\n",
    "        bestDepth = i;\n",
    "        \n",
    "\n",
    "plt.plot(errsT1, 'red');\n",
    "plt.plot(errsV1, 'blue');\n",
    "plt.title('Error rate with different maxDepth');\n",
    "plt.show();\n",
    "\n",
    "print(\"The best depth is\", bestDepth)"
   ]
  },
  {
   "cell_type": "code",
   "execution_count": 55,
   "metadata": {},
   "outputs": [
    {
     "data": {
      "image/png": "[encoded data removed]",
      "text/plain": [
       "<matplotlib.figure.Figure at 0x11647f6a0>"
      ]
     },
     "metadata": {},
     "output_type": "display_data"
    },
    {
     "name": "stdout",
     "output_type": "stream",
     "text": [
      "When depth = 14, the best MinLeaf is 5 . And the error rate is 0.298029802980298\n"
     ]
    }
   ],
   "source": [
    "# find best minLeaf with a fine-scale error rate plot\n",
    "\n",
    "errsT2 = [];\n",
    "errsV2 = [];\n",
    "minLeafs = [x*1 for x in range(1,17)];\n",
    "minErr = 1.0\n",
    "bestMinLeaf = 1;\n",
    "\n",
    "for i in minLeafs:\n",
    "    learner = ml.dtree.treeClassify(Xt,Yt, maxDepth=14, minLeaf=i);\n",
    "    predict = learner.err(Xv, Yv);\n",
    "    errsT2.append(learner.err(Xt, Yt));\n",
    "    errsV2.append(predict);\n",
    "    if(predict < minErr):\n",
    "        minErr = predict;\n",
    "        bestMinLeaf = i;\n",
    "\n",
    "plt.plot(minLeafs, errsT2, 'red');\n",
    "plt.plot(minLeafs, errsV2, 'blue');\n",
    "plt.title('Error rate with different minLeaf');\n",
    "plt.show();\n",
    "\n",
    "print(\"When depth = 14, the best MinLeaf is\", bestMinLeaf, \". And the error rate is\", minErr);"
   ]
  },
  {
   "cell_type": "code",
   "execution_count": 56,
   "metadata": {},
   "outputs": [
    {
     "data": {
      "image/png": "[encoded data removed]",
      "text/plain": [
       "<matplotlib.figure.Figure at 0x1164fc438>"
      ]
     },
     "metadata": {},
     "output_type": "display_data"
    }
   ],
   "source": [
    "# find the best minParent\n",
    "\n",
    "errsT3 = [];\n",
    "errsV3 = [];\n",
    "minParents = [x for x in range(1,17)];\n",
    "\n",
    "for i in minParents:\n",
    "    learner = ml.dtree.treeClassify(Xt,Yt, maxDepth=14, \n",
    "                                    minLeaf=5, minParent=i);\n",
    "    errsT3.append(learner.err(Xt, Yt));\n",
    "    errsV3.append(learner.err(Xv, Yv));\n",
    "\n",
    "plt.plot(minParents, errsT3, 'red');\n",
    "plt.plot(minParents, errsV3, 'blue');\n",
    "plt.title('Error rate with different minParents');\n",
    "plt.show();"
   ]
  },
  {
   "cell_type": "markdown",
   "metadata": {},
   "source": [
    "Hence, all train data will be used. And the parameters are maxDepth=14, minLeaf=5, minParent=5."
   ]
  },
  {
   "cell_type": "code",
   "execution_count": 57,
   "metadata": {},
   "outputs": [],
   "source": [
    "learner = ml.dtree.treeClassify(X_train_src, Y_train_src, \n",
    "                                maxDepth=14, minLeaf=5, minParent=5);\n",
    "Ypred = learner.predictSoft( X_test_src )\n",
    "# Now output a file with two columns, a row ID and a confidence in class 1:\n",
    "np.savetxt('Yhat_dtree.txt',\n",
    "np.vstack( (np.arange(len(Ypred)) , Ypred[:,1]) ).T,\n",
    "'%d, %.2f',header='ID,Prob1',comments='',delimiter=',');"
   ]
  },
  {
   "cell_type": "markdown",
   "metadata": {},
   "source": [
    "The reported submission score is 0.68729."
   ]
  },
  {
   "cell_type": "markdown",
   "metadata": {},
   "source": [
    "## Problem 3: Random Forests"
   ]
  },
  {
   "cell_type": "markdown",
   "metadata": {},
   "source": [
    "(a)"
   ]
  },
  {
   "cell_type": "code",
   "execution_count": null,
   "metadata": {},
   "outputs": [],
   "source": [
    "def errRate(Yp, Yv):\n",
    "    counter = 0;\n",
    "    errCounter = 0;\n",
    "    for i in range(Yp.shape[0]):\n",
    "        if(Yp[i] != Yv[i]):\n",
    "            errCounter += 1;\n",
    "        counter += 1;\n",
    "    return errCounter/counter;"
   ]
  },
  {
   "cell_type": "code",
   "execution_count": 3,
   "metadata": {},
   "outputs": [
    {
     "data": {
      "image/png": "[encoded data removed]",
      "text/plain": [
       "<matplotlib.figure.Figure at 0x11406aef0>"
      ]
     },
     "metadata": {},
     "output_type": "display_data"
    }
   ],
   "source": [
    "Xtr,Ytr = X_train_src[0:90000,:], Y_train_src[0:90000];\n",
    "Xv, Yv = X_train_src[90000:-1,:], Y_train_src[90000:-1] ;\n",
    "\n",
    "bags = np.array([1, 5, 10, 25]);\n",
    "errsT1 = np.zeros(bags.shape[0]);\n",
    "errsV1 = np.zeros(bags.shape[0]);\n",
    "\n",
    "ensembles = [ None ] * 25;\n",
    "for k in range(25):\n",
    "    # train forests\n",
    "    Xt, Yt = ml.bootstrapData(Xtr, Ytr);\n",
    "    ensembles[k] = ml.dtree.treeClassify(Xt, Yt, nFeatures = 5, \n",
    "                                 maxDepth=14, minLeaf=5, minParent=2);\n",
    "for k in range(4):    \n",
    "    # predict\n",
    "    predictsT = np.zeros((Xtr.shape[0], bags[k]));\n",
    "    predictT = np.zeros(Xtr.shape[0]);\n",
    "    predictsV = np.zeros((Xv.shape[0], bags[k]));\n",
    "    predictV = np.zeros(Xv.shape[0]);\n",
    "    for i in range(bags[k]):\n",
    "        predictsT[:,i] = ensembles[i].predict(Xtr); \n",
    "        predictsV[:,i] = ensembles[i].predict(Xv); \n",
    "\n",
    "    # calculate error rate\n",
    "    for i in range(Xtr.shape[0]):\n",
    "        counter = 0;\n",
    "        for j in range(bags[k]):\n",
    "            counter += predictsT[i,j];\n",
    "        if counter > bags[k]/2:\n",
    "            predictT[i] = 1;\n",
    "        else:\n",
    "            predictT[i] = 0;\n",
    "    errsT1[k] = errRate(predictT, Ytr);\n",
    "    \n",
    "    for i in range(Xv.shape[0]):\n",
    "        counter = 0;\n",
    "        for j in range(bags[k]):\n",
    "            counter += predictsV[i,j];\n",
    "        if counter > bags[k]/2:\n",
    "            predictV[i] = 1;\n",
    "        else:\n",
    "            predictV[i] = 0;\n",
    "    errsV1[k] = errRate(predictV, Yv);\n",
    "    \n",
    "plt.plot(bags, errsT1, 'red');\n",
    "plt.plot(bags, errsV1, 'blue');\n",
    "plt.title(\"Training and validation error with different numbers of learners\");\n",
    "plt.show();"
   ]
  },
  {
   "cell_type": "markdown",
   "metadata": {},
   "source": [
    "(b)"
   ]
  },
  {
   "cell_type": "markdown",
   "metadata": {},
   "source": [
    "Adjust parameters of random forest for best performance.\n",
    "\n",
    "Try to find the best nfeatures."
   ]
  },
  {
   "cell_type": "code",
   "execution_count": 4,
   "metadata": {},
   "outputs": [
    {
     "data": {
      "image/png": "[encoded data removed]",
      "text/plain": [
       "<matplotlib.figure.Figure at 0x112dff048>"
      ]
     },
     "metadata": {},
     "output_type": "display_data"
    }
   ],
   "source": [
    "nEnsembles = 25;\n",
    "features = Xt.shape[1]-5;\n",
    "errsT2 = np.zeros(features);\n",
    "errsV2 = np.zeros(features);\n",
    "\n",
    "for k in range(1, 1+features):\n",
    "    ensembles = [ None ] * nEnsembles;\n",
    "    # train forests\n",
    "    for i in range(nEnsembles):\n",
    "        Xt, Yt = ml.bootstrapData(Xtr, Ytr);\n",
    "        ensembles[i] = ml.dtree.treeClassify(Xt, Yt, nFeatures = k, \n",
    "                                 maxDepth=14, minLeaf=5, minParent=2);\n",
    "    \n",
    "    # predict\n",
    "    predictsT = np.zeros((Xtr.shape[0], nEnsembles));\n",
    "    predictT = np.zeros(Xtr.shape[0]);\n",
    "    predictsV = np.zeros((Xv.shape[0], nEnsembles));\n",
    "    predictV = np.zeros(Xv.shape[0]);\n",
    "    for i in range(nEnsembles):\n",
    "        predictsT[:,i] = ensembles[i].predict(Xtr); \n",
    "        predictsV[:,i] = ensembles[i].predict(Xv); \n",
    "\n",
    "    # calculate error rate\n",
    "    for i in range(Xtr.shape[0]):\n",
    "        counter = 0;\n",
    "        for j in range(nEnsembles):\n",
    "            counter += predictsT[i,j];\n",
    "        if counter > nEnsembles/2:\n",
    "            predictT[i] = 1;\n",
    "        else:\n",
    "            predictT[i] = 0;\n",
    "    errsT2[k-1] = errRate(predictT, Ytr);\n",
    "    \n",
    "    for i in range(Xv.shape[0]):\n",
    "        counter = 0;\n",
    "        for j in range(nEnsembles):\n",
    "            counter += predictsV[i,j];\n",
    "        if counter > nEnsembles/2:\n",
    "            predictV[i] = 1;\n",
    "        else:\n",
    "            predictV[i] = 0;\n",
    "    errsV2[k-1] = errRate(predictV, Yv);\n",
    "    \n",
    "plt.plot(list(range(1, 1+features)), errsT2, 'red');\n",
    "plt.plot(list(range(1, 1+features)), errsV2, 'blue');\n",
    "plt.title(\"Training and validation error with different nFeatures\");\n",
    "plt.show();"
   ]
  },
  {
   "cell_type": "markdown",
   "metadata": {},
   "source": [
    "Hence, set nFeatures = 8, the number of learners = 25."
   ]
  },
  {
   "cell_type": "code",
   "execution_count": 6,
   "metadata": {},
   "outputs": [],
   "source": [
    "def myAUC(Yhat, Y):\n",
    "    soft = Yhat[:,1]  # p(class = 2nd)\n",
    "\n",
    "    n,d = np.atleast_2d(soft).shape             # ensure soft is the correct shape\n",
    "    soft = soft.flatten() if n==1 else soft.T.flatten()\n",
    "\n",
    "    indices = np.argsort(soft)         # sort data by score value\n",
    "    Y = Y[indices]\n",
    "    sorted_soft = soft[indices]\n",
    "\n",
    "    # compute rank (averaged for ties) of sorted data\n",
    "    dif = np.hstack( ([True],np.diff(sorted_soft)!=0,[True]) )\n",
    "    r1  = np.argwhere(dif).flatten()\n",
    "    r2  = r1[0:-1] + 0.5*(r1[1:]-r1[0:-1]) + 0.5\n",
    "    rnk = r2[np.cumsum(dif[:-1])-1]\n",
    "\n",
    "    # number of true negatives and positives\n",
    "    n0,n1 = sum(Y == 0), sum(Y ==1)\n",
    "\n",
    "    if n0 == 0 or n1 == 0:\n",
    "      raise ValueError('Data of both class values not found')\n",
    "\n",
    "    # compute AUC using Mann-Whitney U statistic\n",
    "    result = (np.sum(rnk[Y == 1]) - n1 * (n1 + 1.0) / 2.0) / n1 / n0\n",
    "    return result    "
   ]
  },
  {
   "cell_type": "code",
   "execution_count": 7,
   "metadata": {},
   "outputs": [
    {
     "name": "stdout",
     "output_type": "stream",
     "text": [
      "auc = 0.7238948970645771\n"
     ]
    }
   ],
   "source": [
    "Xtr,Ytr = X_train_src[0:90000,:], Y_train_src[0:90000];\n",
    "Xv, Yv = X_train_src[90000:-1,:], Y_train_src[90000:-1] ;\n",
    "\n",
    "nEnsembles = 25;\n",
    "features = 8;\n",
    "ensembles = [ None ] * nEnsembles;\n",
    "\n",
    "# train forests\n",
    "for i in range(nEnsembles):\n",
    "    Xt, Yt = ml.bootstrapData(Xtr, Ytr);\n",
    "    ensembles[i] = ml.dtree.treeClassify(Xt, Yt, nFeatures = features, \n",
    "                            maxDepth=14, minLeaf=5, minParent=2);\n",
    "#     auc += ensembles[i].auc(Xv, Yv);\n",
    "\n",
    "# predict\n",
    "predict = np.zeros((Xv.shape[0], 2));\n",
    "for i in range(nEnsembles):\n",
    "    predict += ensembles[i].predictSoft(Xv); \n",
    "predict = predict / float(nEnsembles);\n",
    "    \n",
    "auc = myAUC(predict, Yv);\n",
    "print(\"auc =\", auc)"
   ]
  },
  {
   "cell_type": "markdown",
   "metadata": {},
   "source": [
    "For the prediction on the test data, we will use all of the train data."
   ]
  },
  {
   "cell_type": "code",
   "execution_count": 8,
   "metadata": {},
   "outputs": [],
   "source": [
    "# train forests\n",
    "features = 8;\n",
    "nEnsembles = 25;\n",
    "for i in range(nEnsembles):\n",
    "    X_tr, Y_tr = ml.bootstrapData(X_train_src, Y_train_src);\n",
    "    ensembles[i] = ml.dtree.treeClassify(X_train_src, Y_train_src, \n",
    "                                   nFeatures = features, maxDepth=14, \n",
    "                                   minLeaf=5, minParent=2);      "
   ]
  },
  {
   "cell_type": "code",
   "execution_count": 9,
   "metadata": {},
   "outputs": [],
   "source": [
    "# predict\n",
    "predict = np.zeros((X_test_src.shape[0], 2));\n",
    "for i in range(nEnsembles):\n",
    "    predict += ensembles[i].predictSoft(X_test_src); \n",
    "Ypred = predict / float(nEnsembles);"
   ]
  },
  {
   "cell_type": "code",
   "execution_count": 10,
   "metadata": {},
   "outputs": [],
   "source": [
    "np.savetxt('Yhat_dForest.txt',\n",
    "np.vstack( (np.arange(len(Ypred)) , Ypred[:,1]) ).T,\n",
    "           '%d, %.2f',header='ID,Prob1',comments='',delimiter=',');"
   ]
  },
  {
   "cell_type": "markdown",
   "metadata": {},
   "source": [
    "The reported submission score is 0.73789."
   ]
  }
 ],
 "metadata": {
  "kernelspec": {
   "display_name": "Python 3",
   "language": "python",
   "name": "python3"
  },
  "language_info": {
   "codemirror_mode": {
    "name": "ipython",
    "version": 3
   },
   "file_extension": ".py",
   "mimetype": "text/x-python",
   "name": "python",
   "nbconvert_exporter": "python",
   "pygments_lexer": "ipython3",
   "version": "3.6.4"
  }
 },
 "nbformat": 4,
 "nbformat_minor": 2
}
